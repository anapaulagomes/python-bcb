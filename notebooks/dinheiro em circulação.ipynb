{
 "cells": [
  {
   "cell_type": "code",
   "execution_count": 1,
   "metadata": {},
   "outputs": [],
   "source": [
    "import sys\n",
    "sys.path.insert(0, '..')\n",
    "import pandas as pd\n",
    "from bcb import DinheiroCirculacao"
   ]
  },
  {
   "cell_type": "code",
   "execution_count": 2,
   "metadata": {},
   "outputs": [
    {
     "name": "stdout",
     "output_type": "stream",
     "text": [
      "EntitySets:\n",
      "  informacoes_diarias\n",
      "  informacoes_diarias_com_categoria\n"
     ]
    }
   ],
   "source": [
    "em = DinheiroCirculacao()\n",
    "em.describe()"
   ]
  },
  {
   "cell_type": "code",
   "execution_count": 22,
   "metadata": {},
   "outputs": [
    {
     "name": "stdout",
     "output_type": "stream",
     "text": [
      "\n",
      "EntitySet (Endpoint): informacoes_diarias_com_categoria\n",
      "EntityType: br.gov.bcb.olinda.servico.mecir_dinheiro_em_circulacao.Resumoinformacoes_diarias_com_categoria\n",
      "Properties: Data<datetime>, Quantidade<float>, Valor<float>, Categoria<str>, Denominacao<str>, Especie<str>\n"
     ]
    }
   ],
   "source": [
    "em.describe('informacoes_diarias')"
   ]
  },
  {
   "cell_type": "code",
   "execution_count": 5,
   "metadata": {},
   "outputs": [],
   "source": [
    "ep = em.get_endpoint('informacoes_diarias')"
   ]
  },
  {
   "cell_type": "code",
   "execution_count": 6,
   "metadata": {},
   "outputs": [],
   "source": [
    "df = (ep.query()\n",
    "    .limit(10)\n",
    "    .collect())"
   ]
  },
  {
   "cell_type": "code",
   "execution_count": 7,
   "metadata": {},
   "outputs": [
    {
     "data": {
      "text/html": [
       "<div>\n",
       "<style scoped>\n",
       "    .dataframe tbody tr th:only-of-type {\n",
       "        vertical-align: middle;\n",
       "    }\n",
       "\n",
       "    .dataframe tbody tr th {\n",
       "        vertical-align: top;\n",
       "    }\n",
       "\n",
       "    .dataframe thead th {\n",
       "        text-align: right;\n",
       "    }\n",
       "</style>\n",
       "<table border=\"1\" class=\"dataframe\">\n",
       "  <thead>\n",
       "    <tr style=\"text-align: right;\">\n",
       "      <th></th>\n",
       "      <th>Data</th>\n",
       "      <th>Quantidade</th>\n",
       "      <th>Valor</th>\n",
       "      <th>Denominacao</th>\n",
       "      <th>Especie</th>\n",
       "    </tr>\n",
       "  </thead>\n",
       "  <tbody>\n",
       "    <tr>\n",
       "      <th>0</th>\n",
       "      <td>1994-10-03</td>\n",
       "      <td>692701959</td>\n",
       "      <td>6.927020e+06</td>\n",
       "      <td>0.01</td>\n",
       "      <td>Moedas</td>\n",
       "    </tr>\n",
       "    <tr>\n",
       "      <th>1</th>\n",
       "      <td>1994-10-03</td>\n",
       "      <td>462277579</td>\n",
       "      <td>2.311388e+07</td>\n",
       "      <td>0.05</td>\n",
       "      <td>Moedas</td>\n",
       "    </tr>\n",
       "    <tr>\n",
       "      <th>2</th>\n",
       "      <td>1994-10-03</td>\n",
       "      <td>404559065</td>\n",
       "      <td>4.045591e+07</td>\n",
       "      <td>0.10</td>\n",
       "      <td>Moedas</td>\n",
       "    </tr>\n",
       "    <tr>\n",
       "      <th>3</th>\n",
       "      <td>1994-10-03</td>\n",
       "      <td>1492870</td>\n",
       "      <td>3.732175e+05</td>\n",
       "      <td>0.25</td>\n",
       "      <td>Moedas</td>\n",
       "    </tr>\n",
       "    <tr>\n",
       "      <th>4</th>\n",
       "      <td>1994-10-03</td>\n",
       "      <td>278901842</td>\n",
       "      <td>1.394509e+08</td>\n",
       "      <td>0.50</td>\n",
       "      <td>Moedas</td>\n",
       "    </tr>\n",
       "    <tr>\n",
       "      <th>5</th>\n",
       "      <td>1994-10-03</td>\n",
       "      <td>267853898</td>\n",
       "      <td>2.678539e+08</td>\n",
       "      <td>1.00</td>\n",
       "      <td>Cédulas</td>\n",
       "    </tr>\n",
       "    <tr>\n",
       "      <th>6</th>\n",
       "      <td>1994-10-03</td>\n",
       "      <td>181609358</td>\n",
       "      <td>1.816094e+08</td>\n",
       "      <td>1.00</td>\n",
       "      <td>Moedas</td>\n",
       "    </tr>\n",
       "    <tr>\n",
       "      <th>7</th>\n",
       "      <td>1994-10-03</td>\n",
       "      <td>252922174</td>\n",
       "      <td>1.264611e+09</td>\n",
       "      <td>5.00</td>\n",
       "      <td>Cédulas</td>\n",
       "    </tr>\n",
       "    <tr>\n",
       "      <th>8</th>\n",
       "      <td>1994-10-03</td>\n",
       "      <td>273630983</td>\n",
       "      <td>2.736310e+09</td>\n",
       "      <td>10.00</td>\n",
       "      <td>Cédulas</td>\n",
       "    </tr>\n",
       "    <tr>\n",
       "      <th>9</th>\n",
       "      <td>1994-10-03</td>\n",
       "      <td>28945486</td>\n",
       "      <td>1.447274e+09</td>\n",
       "      <td>50.00</td>\n",
       "      <td>Cédulas</td>\n",
       "    </tr>\n",
       "  </tbody>\n",
       "</table>\n",
       "</div>"
      ],
      "text/plain": [
       "         Data  Quantidade         Valor Denominacao  Especie\n",
       "0  1994-10-03   692701959  6.927020e+06        0.01   Moedas\n",
       "1  1994-10-03   462277579  2.311388e+07        0.05   Moedas\n",
       "2  1994-10-03   404559065  4.045591e+07        0.10   Moedas\n",
       "3  1994-10-03     1492870  3.732175e+05        0.25   Moedas\n",
       "4  1994-10-03   278901842  1.394509e+08        0.50   Moedas\n",
       "5  1994-10-03   267853898  2.678539e+08        1.00  Cédulas\n",
       "6  1994-10-03   181609358  1.816094e+08        1.00   Moedas\n",
       "7  1994-10-03   252922174  1.264611e+09        5.00  Cédulas\n",
       "8  1994-10-03   273630983  2.736310e+09       10.00  Cédulas\n",
       "9  1994-10-03    28945486  1.447274e+09       50.00  Cédulas"
      ]
     },
     "execution_count": 7,
     "metadata": {},
     "output_type": "execute_result"
    }
   ],
   "source": [
    "df"
   ]
  },
  {
   "cell_type": "code",
   "execution_count": 8,
   "metadata": {},
   "outputs": [],
   "source": [
    "df = (ep.query()\n",
    "    .limit(10)\n",
    "    .orderby(ep.Data.desc())\n",
    "    .collect())"
   ]
  },
  {
   "cell_type": "code",
   "execution_count": 9,
   "metadata": {},
   "outputs": [
    {
     "data": {
      "text/html": [
       "<div>\n",
       "<style scoped>\n",
       "    .dataframe tbody tr th:only-of-type {\n",
       "        vertical-align: middle;\n",
       "    }\n",
       "\n",
       "    .dataframe tbody tr th {\n",
       "        vertical-align: top;\n",
       "    }\n",
       "\n",
       "    .dataframe thead th {\n",
       "        text-align: right;\n",
       "    }\n",
       "</style>\n",
       "<table border=\"1\" class=\"dataframe\">\n",
       "  <thead>\n",
       "    <tr style=\"text-align: right;\">\n",
       "      <th></th>\n",
       "      <th>Data</th>\n",
       "      <th>Quantidade</th>\n",
       "      <th>Valor</th>\n",
       "      <th>Denominacao</th>\n",
       "      <th>Especie</th>\n",
       "    </tr>\n",
       "  </thead>\n",
       "  <tbody>\n",
       "    <tr>\n",
       "      <th>0</th>\n",
       "      <td>2022-03-30</td>\n",
       "      <td>3191089478</td>\n",
       "      <td>3.191089e+07</td>\n",
       "      <td>0.01</td>\n",
       "      <td>Moedas</td>\n",
       "    </tr>\n",
       "    <tr>\n",
       "      <th>1</th>\n",
       "      <td>2022-03-30</td>\n",
       "      <td>7375490940</td>\n",
       "      <td>3.687745e+08</td>\n",
       "      <td>0.05</td>\n",
       "      <td>Moedas</td>\n",
       "    </tr>\n",
       "    <tr>\n",
       "      <th>2</th>\n",
       "      <td>2022-03-30</td>\n",
       "      <td>7594843256</td>\n",
       "      <td>7.594843e+08</td>\n",
       "      <td>0.10</td>\n",
       "      <td>Moedas</td>\n",
       "    </tr>\n",
       "    <tr>\n",
       "      <th>3</th>\n",
       "      <td>2022-03-30</td>\n",
       "      <td>3335004820</td>\n",
       "      <td>8.337512e+08</td>\n",
       "      <td>0.25</td>\n",
       "      <td>Moedas</td>\n",
       "    </tr>\n",
       "    <tr>\n",
       "      <th>4</th>\n",
       "      <td>2022-03-30</td>\n",
       "      <td>3381072827</td>\n",
       "      <td>1.690536e+09</td>\n",
       "      <td>0.50</td>\n",
       "      <td>Moedas</td>\n",
       "    </tr>\n",
       "    <tr>\n",
       "      <th>5</th>\n",
       "      <td>2022-03-30</td>\n",
       "      <td>148704034</td>\n",
       "      <td>1.487040e+08</td>\n",
       "      <td>1.00</td>\n",
       "      <td>Cédulas</td>\n",
       "    </tr>\n",
       "    <tr>\n",
       "      <th>6</th>\n",
       "      <td>2022-03-30</td>\n",
       "      <td>3935223357</td>\n",
       "      <td>3.935223e+09</td>\n",
       "      <td>1.00</td>\n",
       "      <td>Moedas</td>\n",
       "    </tr>\n",
       "    <tr>\n",
       "      <th>7</th>\n",
       "      <td>2022-03-30</td>\n",
       "      <td>1500996632</td>\n",
       "      <td>3.001993e+09</td>\n",
       "      <td>2.00</td>\n",
       "      <td>Cédulas</td>\n",
       "    </tr>\n",
       "    <tr>\n",
       "      <th>8</th>\n",
       "      <td>2022-03-30</td>\n",
       "      <td>640648506</td>\n",
       "      <td>3.203243e+09</td>\n",
       "      <td>5.00</td>\n",
       "      <td>Cédulas</td>\n",
       "    </tr>\n",
       "    <tr>\n",
       "      <th>9</th>\n",
       "      <td>2022-03-30</td>\n",
       "      <td>567655651</td>\n",
       "      <td>5.676557e+09</td>\n",
       "      <td>10.00</td>\n",
       "      <td>Cédulas</td>\n",
       "    </tr>\n",
       "  </tbody>\n",
       "</table>\n",
       "</div>"
      ],
      "text/plain": [
       "         Data  Quantidade         Valor Denominacao  Especie\n",
       "0  2022-03-30  3191089478  3.191089e+07        0.01   Moedas\n",
       "1  2022-03-30  7375490940  3.687745e+08        0.05   Moedas\n",
       "2  2022-03-30  7594843256  7.594843e+08        0.10   Moedas\n",
       "3  2022-03-30  3335004820  8.337512e+08        0.25   Moedas\n",
       "4  2022-03-30  3381072827  1.690536e+09        0.50   Moedas\n",
       "5  2022-03-30   148704034  1.487040e+08        1.00  Cédulas\n",
       "6  2022-03-30  3935223357  3.935223e+09        1.00   Moedas\n",
       "7  2022-03-30  1500996632  3.001993e+09        2.00  Cédulas\n",
       "8  2022-03-30   640648506  3.203243e+09        5.00  Cédulas\n",
       "9  2022-03-30   567655651  5.676557e+09       10.00  Cédulas"
      ]
     },
     "execution_count": 9,
     "metadata": {},
     "output_type": "execute_result"
    }
   ],
   "source": [
    "df"
   ]
  },
  {
   "cell_type": "code",
   "execution_count": 20,
   "metadata": {},
   "outputs": [],
   "source": [
    "df = (ep.query()\n",
    "    .filter(ep.Especie == 'Cédulas', ep.Denominacao == 100.0)\n",
    "    .collect())"
   ]
  },
  {
   "cell_type": "code",
   "execution_count": 21,
   "metadata": {},
   "outputs": [
    {
     "data": {
      "text/plain": [
       "<AxesSubplot:xlabel='Data'>"
      ]
     },
     "execution_count": 21,
     "metadata": {},
     "output_type": "execute_result"
    },
    {
     "data": {
      "image/png": "[encoded data removed]",
      "text/plain": [
       "<Figure size 1152x432 with 1 Axes>"
      ]
     },
     "metadata": {
      "needs_background": "light"
     },
     "output_type": "display_data"
    }
   ],
   "source": [
    "df.plot(x='Data', y='Quantidade', figsize=(16, 6))"
   ]
  },
  {
   "cell_type": "code",
   "execution_count": 23,
   "metadata": {},
   "outputs": [
    {
     "name": "stdout",
     "output_type": "stream",
     "text": [
      "\n",
      "EntitySet (Endpoint): informacoes_diarias_com_categoria\n",
      "EntityType: br.gov.bcb.olinda.servico.mecir_dinheiro_em_circulacao.Resumoinformacoes_diarias_com_categoria\n",
      "Properties: Data<datetime>, Quantidade<float>, Valor<float>, Categoria<str>, Denominacao<str>, Especie<str>\n"
     ]
    }
   ],
   "source": [
    "em.describe('informacoes_diarias_com_categoria')"
   ]
  },
  {
   "cell_type": "code",
   "execution_count": 24,
   "metadata": {},
   "outputs": [],
   "source": [
    "ep = em.get_endpoint('informacoes_diarias_com_categoria')"
   ]
  },
  {
   "cell_type": "code",
   "execution_count": 25,
   "metadata": {},
   "outputs": [],
   "source": [
    "df = (ep.query()\n",
    "    .limit(10)\n",
    "    .collect())"
   ]
  },
  {
   "cell_type": "code",
   "execution_count": 26,
   "metadata": {},
   "outputs": [
    {
     "data": {
      "text/html": [
       "<div>\n",
       "<style scoped>\n",
       "    .dataframe tbody tr th:only-of-type {\n",
       "        vertical-align: middle;\n",
       "    }\n",
       "\n",
       "    .dataframe tbody tr th {\n",
       "        vertical-align: top;\n",
       "    }\n",
       "\n",
       "    .dataframe thead th {\n",
       "        text-align: right;\n",
       "    }\n",
       "</style>\n",
       "<table border=\"1\" class=\"dataframe\">\n",
       "  <thead>\n",
       "    <tr style=\"text-align: right;\">\n",
       "      <th></th>\n",
       "      <th>Data</th>\n",
       "      <th>Quantidade</th>\n",
       "      <th>Valor</th>\n",
       "      <th>Categoria</th>\n",
       "      <th>Denominacao</th>\n",
       "      <th>Especie</th>\n",
       "    </tr>\n",
       "  </thead>\n",
       "  <tbody>\n",
       "    <tr>\n",
       "      <th>0</th>\n",
       "      <td>1994-11-22</td>\n",
       "      <td>204914511</td>\n",
       "      <td>1.024573e+09</td>\n",
       "      <td>Cédulas - 1a. família</td>\n",
       "      <td>5.00</td>\n",
       "      <td>Cédulas</td>\n",
       "    </tr>\n",
       "    <tr>\n",
       "      <th>1</th>\n",
       "      <td>2019-09-13</td>\n",
       "      <td>1200332884</td>\n",
       "      <td>1.200333e+07</td>\n",
       "      <td>Moedas - 2a. Família</td>\n",
       "      <td>0.01</td>\n",
       "      <td>Moedas</td>\n",
       "    </tr>\n",
       "    <tr>\n",
       "      <th>2</th>\n",
       "      <td>2019-09-13</td>\n",
       "      <td>5392981432</td>\n",
       "      <td>2.696491e+08</td>\n",
       "      <td>Moedas - 2a. Família</td>\n",
       "      <td>0.05</td>\n",
       "      <td>Moedas</td>\n",
       "    </tr>\n",
       "    <tr>\n",
       "      <th>3</th>\n",
       "      <td>2019-09-13</td>\n",
       "      <td>5681159148</td>\n",
       "      <td>5.681159e+08</td>\n",
       "      <td>Moedas - 2a. Família</td>\n",
       "      <td>0.10</td>\n",
       "      <td>Moedas</td>\n",
       "    </tr>\n",
       "    <tr>\n",
       "      <th>4</th>\n",
       "      <td>2019-09-13</td>\n",
       "      <td>2661509938</td>\n",
       "      <td>6.653775e+08</td>\n",
       "      <td>Moedas - 2a. Família</td>\n",
       "      <td>0.25</td>\n",
       "      <td>Moedas</td>\n",
       "    </tr>\n",
       "    <tr>\n",
       "      <th>5</th>\n",
       "      <td>2019-09-13</td>\n",
       "      <td>2567531046</td>\n",
       "      <td>1.283766e+09</td>\n",
       "      <td>Moedas - 2a. Família</td>\n",
       "      <td>0.50</td>\n",
       "      <td>Moedas</td>\n",
       "    </tr>\n",
       "    <tr>\n",
       "      <th>6</th>\n",
       "      <td>2019-09-13</td>\n",
       "      <td>3152225174</td>\n",
       "      <td>3.152225e+09</td>\n",
       "      <td>Moedas - 2a. Família</td>\n",
       "      <td>1.00</td>\n",
       "      <td>Moedas</td>\n",
       "    </tr>\n",
       "    <tr>\n",
       "      <th>7</th>\n",
       "      <td>2019-09-13</td>\n",
       "      <td>3508356</td>\n",
       "      <td>3.508356e+07</td>\n",
       "      <td>Cédulas - em polímero</td>\n",
       "      <td>10.00</td>\n",
       "      <td>Cédulas</td>\n",
       "    </tr>\n",
       "    <tr>\n",
       "      <th>8</th>\n",
       "      <td>2019-09-13</td>\n",
       "      <td>148761504</td>\n",
       "      <td>1.487615e+08</td>\n",
       "      <td>Cédulas - 1a. família</td>\n",
       "      <td>1.00</td>\n",
       "      <td>Cédulas</td>\n",
       "    </tr>\n",
       "    <tr>\n",
       "      <th>9</th>\n",
       "      <td>2019-09-13</td>\n",
       "      <td>151965810</td>\n",
       "      <td>3.039316e+08</td>\n",
       "      <td>Cédulas - 1a. família</td>\n",
       "      <td>2.00</td>\n",
       "      <td>Cédulas</td>\n",
       "    </tr>\n",
       "  </tbody>\n",
       "</table>\n",
       "</div>"
      ],
      "text/plain": [
       "         Data  Quantidade         Valor              Categoria Denominacao  \\\n",
       "0  1994-11-22   204914511  1.024573e+09  Cédulas - 1a. família        5.00   \n",
       "1  2019-09-13  1200332884  1.200333e+07   Moedas - 2a. Família        0.01   \n",
       "2  2019-09-13  5392981432  2.696491e+08   Moedas - 2a. Família        0.05   \n",
       "3  2019-09-13  5681159148  5.681159e+08   Moedas - 2a. Família        0.10   \n",
       "4  2019-09-13  2661509938  6.653775e+08   Moedas - 2a. Família        0.25   \n",
       "5  2019-09-13  2567531046  1.283766e+09   Moedas - 2a. Família        0.50   \n",
       "6  2019-09-13  3152225174  3.152225e+09   Moedas - 2a. Família        1.00   \n",
       "7  2019-09-13     3508356  3.508356e+07  Cédulas - em polímero       10.00   \n",
       "8  2019-09-13   148761504  1.487615e+08  Cédulas - 1a. família        1.00   \n",
       "9  2019-09-13   151965810  3.039316e+08  Cédulas - 1a. família        2.00   \n",
       "\n",
       "   Especie  \n",
       "0  Cédulas  \n",
       "1   Moedas  \n",
       "2   Moedas  \n",
       "3   Moedas  \n",
       "4   Moedas  \n",
       "5   Moedas  \n",
       "6   Moedas  \n",
       "7  Cédulas  \n",
       "8  Cédulas  \n",
       "9  Cédulas  "
      ]
     },
     "execution_count": 26,
     "metadata": {},
     "output_type": "execute_result"
    }
   ],
   "source": [
    "df"
   ]
  },
  {
   "cell_type": "code",
   "execution_count": null,
   "metadata": {},
   "outputs": [],
   "source": []
  }
 ],
 "metadata": {
  "interpreter": {
   "hash": "591249945e7839c6e32026d54bd3cc30752de3acaf2ddf3f5c6c79edfbca9df8"
  },
  "kernelspec": {
   "display_name": "Python 3.7.6 64-bit ('venv': venv)",
   "language": "python",
   "name": "python3"
  },
  "language_info": {
   "codemirror_mode": {
    "name": "ipython",
    "version": 3
   },
   "file_extension": ".py",
   "mimetype": "text/x-python",
   "name": "python",
   "nbconvert_exporter": "python",
   "pygments_lexer": "ipython3",
   "version": "3.7.11"
  },
  "orig_nbformat": 4
 },
 "nbformat": 4,
 "nbformat_minor": 2
}
