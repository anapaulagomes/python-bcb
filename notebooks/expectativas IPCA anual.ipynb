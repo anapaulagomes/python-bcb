{
 "cells": [
  {
   "cell_type": "code",
   "execution_count": 1,
   "metadata": {},
   "outputs": [],
   "source": [
    "import sys\n",
    "sys.path.insert(0, '..')\n",
    "import pandas as pd\n",
    "from bcb import Expectativas"
   ]
  },
  {
   "cell_type": "code",
   "execution_count": 2,
   "metadata": {},
   "outputs": [
    {
     "name": "stdout",
     "output_type": "stream",
     "text": [
      "EntitySets:\n",
      "  ExpectativasMercadoTop5Anuais\n",
      "  ExpectativasMercadoInstituicoes\n",
      "  ExpectativaMercadoMensais\n",
      "  ExpectativasMercadoInflacao12Meses\n",
      "  ExpectativasMercadoTop5Mensais\n",
      "  ExpectativasMercadoTrimestrais\n",
      "  ExpectativasMercadoAnuais\n"
     ]
    }
   ],
   "source": [
    "em = Expectativas()\n",
    "em.describe()"
   ]
  },
  {
   "cell_type": "code",
   "execution_count": 3,
   "metadata": {},
   "outputs": [
    {
     "name": "stdout",
     "output_type": "stream",
     "text": [
      "\n",
      "EntitySet (Endpoint): ExpectativasMercadoAnuais\n",
      "EntityType: br.gov.bcb.olinda.servico.Expectativas.ExpectativaMercadoAnual\n",
      "Properties: Indicador<str>, IndicadorDetalhe<str>, Data<str>, DataReferencia<str>, Media<float>, Mediana<float>, DesvioPadrao<float>, Minimo<float>, Maximo<float>, numeroRespondentes<int>, baseCalculo<int>\n"
     ]
    }
   ],
   "source": [
    "em.describe('ExpectativasMercadoAnuais')"
   ]
  },
  {
   "cell_type": "code",
   "execution_count": 4,
   "metadata": {},
   "outputs": [],
   "source": [
    "ep = em.get_endpoint('ExpectativasMercadoAnuais')"
   ]
  },
  {
   "cell_type": "code",
   "execution_count": 5,
   "metadata": {},
   "outputs": [],
   "source": [
    "df_ipca_2021 = (ep.query()\n",
    "    .filter(ep.Indicador == 'IPCA')\n",
    "    .filter(ep.Data >= '2021-01-01', ep.Data <= '2021-12-31')\n",
    "    .filter(ep.DataReferencia == '2021', ep.baseCalculo == 1)\n",
    "    .orderby(ep.Data.asc())\n",
    "    .select(ep.Data, ep.Media, ep.Mediana)\n",
    "    .collect())"
   ]
  },
  {
   "cell_type": "code",
   "execution_count": 6,
   "metadata": {},
   "outputs": [
    {
     "data": {
      "text/html": [
       "<div>\n",
       "<style scoped>\n",
       "    .dataframe tbody tr th:only-of-type {\n",
       "        vertical-align: middle;\n",
       "    }\n",
       "\n",
       "    .dataframe tbody tr th {\n",
       "        vertical-align: top;\n",
       "    }\n",
       "\n",
       "    .dataframe thead th {\n",
       "        text-align: right;\n",
       "    }\n",
       "</style>\n",
       "<table border=\"1\" class=\"dataframe\">\n",
       "  <thead>\n",
       "    <tr style=\"text-align: right;\">\n",
       "      <th></th>\n",
       "      <th>Data</th>\n",
       "      <th>Media</th>\n",
       "      <th>Mediana</th>\n",
       "    </tr>\n",
       "  </thead>\n",
       "  <tbody>\n",
       "    <tr>\n",
       "      <th>0</th>\n",
       "      <td>2021-01-04</td>\n",
       "      <td>3.31</td>\n",
       "      <td>3.32</td>\n",
       "    </tr>\n",
       "    <tr>\n",
       "      <th>1</th>\n",
       "      <td>2021-01-05</td>\n",
       "      <td>3.29</td>\n",
       "      <td>3.30</td>\n",
       "    </tr>\n",
       "    <tr>\n",
       "      <th>2</th>\n",
       "      <td>2021-01-06</td>\n",
       "      <td>3.29</td>\n",
       "      <td>3.29</td>\n",
       "    </tr>\n",
       "    <tr>\n",
       "      <th>3</th>\n",
       "      <td>2021-01-07</td>\n",
       "      <td>3.27</td>\n",
       "      <td>3.28</td>\n",
       "    </tr>\n",
       "    <tr>\n",
       "      <th>4</th>\n",
       "      <td>2021-01-08</td>\n",
       "      <td>3.35</td>\n",
       "      <td>3.35</td>\n",
       "    </tr>\n",
       "  </tbody>\n",
       "</table>\n",
       "</div>"
      ],
      "text/plain": [
       "         Data  Media  Mediana\n",
       "0  2021-01-04   3.31     3.32\n",
       "1  2021-01-05   3.29     3.30\n",
       "2  2021-01-06   3.29     3.29\n",
       "3  2021-01-07   3.27     3.28\n",
       "4  2021-01-08   3.35     3.35"
      ]
     },
     "execution_count": 6,
     "metadata": {},
     "output_type": "execute_result"
    }
   ],
   "source": [
    "df_ipca_2021.head()"
   ]
  },
  {
   "cell_type": "code",
   "execution_count": 7,
   "metadata": {},
   "outputs": [],
   "source": [
    "df_ipca_2021['Data'] = pd.to_datetime(df_ipca_2021['Data'])\n",
    "df_ipca_2021 = df_ipca_2021.set_index('Data')"
   ]
  },
  {
   "cell_type": "code",
   "execution_count": 8,
   "metadata": {},
   "outputs": [
    {
     "data": {
      "image/png": "[encoded data removed]",
      "text/plain": [
       "<Figure size 1152x432 with 1 Axes>"
      ]
     },
     "metadata": {
      "needs_background": "light"
     },
     "output_type": "display_data"
    }
   ],
   "source": [
    "df_ipca_2021.plot(figsize=(16,6));"
   ]
  }
 ],
 "metadata": {
  "interpreter": {
   "hash": "591249945e7839c6e32026d54bd3cc30752de3acaf2ddf3f5c6c79edfbca9df8"
  },
  "kernelspec": {
   "display_name": "Python 3.7.6 64-bit ('venv': venv)",
   "language": "python",
   "name": "python3"
  },
  "language_info": {
   "codemirror_mode": {
    "name": "ipython",
    "version": 3
   },
   "file_extension": ".py",
   "mimetype": "text/x-python",
   "name": "python",
   "nbconvert_exporter": "python",
   "pygments_lexer": "ipython3",
   "version": "3.7.6"
  },
  "orig_nbformat": 4
 },
 "nbformat": 4,
 "nbformat_minor": 2
}
